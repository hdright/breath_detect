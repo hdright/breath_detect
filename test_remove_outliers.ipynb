{
 "cells": [
  {
   "cell_type": "code",
   "execution_count": 1,
   "metadata": {},
   "outputs": [],
   "source": [
    "import numpy as np\n"
   ]
  },
  {
   "cell_type": "code",
   "execution_count": 11,
   "metadata": {},
   "outputs": [
    {
     "name": "stdout",
     "output_type": "stream",
     "text": [
      "[[0.24358833 0.20705008 0.83361339]\n",
      " [0.13532685 0.03924479 1.07990826]\n",
      " [0.05954381 0.26659389 0.86203203]\n",
      " [0.24358833 0.20705008 0.83361339]\n",
      " [0.13532685 0.03924479 1.19358281]\n",
      " [0.05954381 0.26659389 1.22200145]\n",
      " [0.09743533 0.1975772  1.19358281]]\n",
      "[array([14.5, 19.3, 22.7]), array([10.5, 16.7, 20.1]), array([11.3, 14.3, 22.4]), array([14.5, 19.3, 22.7]), array([10.5, 16.7, 44.1]), array([11.3, 14.3, 44.4]), array([10.9, 19.2, 44.1])]\n"
     ]
    }
   ],
   "source": [
    "\n",
    "# Example list of 1*3 numpy arrays\n",
    "arr_list = [np.array([14.500000,19.300000,22.700000]), \n",
    "            np.array([10.500000,16.700000,20.100000]), \n",
    "            np.array([11.300000,14.300000,22.400000]),\n",
    "            np.array([14.500000,19.300000,22.700000]), \n",
    "            np.array([10.500000,16.700000,44.100000]), \n",
    "            np.array([11.300000,14.300000,44.400000]), \n",
    "            np.array([10.900000,19.200000,44.100000])]\n",
    "\n",
    "# Calculate the z-score of each array\n",
    "z_scores = np.abs((arr_list - np.mean(arr_list, axis=0)) / np.std(arr_list))\n",
    "print(z_scores)\n",
    "# Remove arrays with a z-score greater than 3\n",
    "arr_list = [arr_list[i] for i in range(len(arr_list)) if np.max(z_scores[i]) < 3]\n",
    "print(arr_list)"
   ]
  },
  {
   "cell_type": "code",
   "execution_count": 9,
   "metadata": {},
   "outputs": [
    {
     "data": {
      "text/plain": [
       "array([12.1       , 16.76666667, 21.73333333])"
      ]
     },
     "execution_count": 9,
     "metadata": {},
     "output_type": "execute_result"
    }
   ],
   "source": [
    "np.mean(arr_list, axis=0)"
   ]
  },
  {
   "cell_type": "code",
   "execution_count": null,
   "metadata": {},
   "outputs": [],
   "source": []
  }
 ],
 "metadata": {
  "kernelspec": {
   "display_name": "bolt",
   "language": "python",
   "name": "python3"
  },
  "language_info": {
   "codemirror_mode": {
    "name": "ipython",
    "version": 3
   },
   "file_extension": ".py",
   "mimetype": "text/x-python",
   "name": "python",
   "nbconvert_exporter": "python",
   "pygments_lexer": "ipython3",
   "version": "3.10.9"
  },
  "orig_nbformat": 4
 },
 "nbformat": 4,
 "nbformat_minor": 2
}
